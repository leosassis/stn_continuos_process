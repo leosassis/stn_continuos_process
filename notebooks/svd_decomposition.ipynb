{
 "cells": [
  {
   "cell_type": "code",
   "execution_count": 22,
   "id": "b767028a",
   "metadata": {},
   "outputs": [],
   "source": [
    "import numpy as np\n",
    "\n"
   ]
  },
  {
   "cell_type": "code",
   "execution_count": 23,
   "id": "bd7380db",
   "metadata": {},
   "outputs": [
    {
     "name": "stdout",
     "output_type": "stream",
     "text": [
      "[[ 2 12 16]\n",
      " [ 2 14 12]\n",
      " [ 8  2  6]\n",
      " [ 6  2 16]\n",
      " [ 4 14  2]\n",
      " [ 8  4  2]]\n",
      "[5 8 9]\n",
      "[[-3  4  7]\n",
      " [-3  6  3]\n",
      " [ 3 -6 -3]\n",
      " [ 1 -6  7]\n",
      " [-1  6 -7]\n",
      " [ 3 -4 -7]]\n"
     ]
    }
   ],
   "source": [
    "A = np.array([[2, 12, 16], [2, 14, 12], [8, 2, 6], [6, 2, 16], [4, 14, 2], [8, 4, 2]])\n",
    "print(A)\n",
    "b = np.array([5, 8, 9])\n",
    "print(b)\n",
    "\n",
    "AN = A-b\n",
    "\n",
    "print(AN)"
   ]
  },
  {
   "cell_type": "code",
   "execution_count": 41,
   "id": "f8e7f1e7",
   "metadata": {},
   "outputs": [
    {
     "name": "stdout",
     "output_type": "stream",
     "text": [
      "U:\n",
      " [[-0.35805744  0.19611614  0.91287093]\n",
      " [ 0.50128041 -0.78446454  0.36514837]\n",
      " [ 0.78772636  0.58834841  0.18257419]]\n",
      "Singular values:\n",
      " [2.40000000e+02 1.88000000e+02 3.18395058e-15]\n",
      "V^T:\n",
      " [[-0.35805744  0.50128041  0.78772636]\n",
      " [ 0.19611614 -0.78446454  0.58834841]\n",
      " [-0.91287093 -0.36514837 -0.18257419]]\n",
      "Hyperplane coefficients (normal vector): [-0.91287093 -0.36514837 -0.18257419]\n"
     ]
    }
   ],
   "source": [
    "U, S, VT = np.linalg.svd(np.dot(np.transpose(AN), AN))\n",
    "\n",
    "print(\"U:\\n\", U)\n",
    "print(\"Singular values:\\n\", S)\n",
    "print(\"V^T:\\n\", VT)\n",
    "\n",
    "# The last row of V^T gives the normal vector of the hyperplane\n",
    "normal_vector = VT[-1, :]  # Last row\n",
    "\n",
    "print(\"Hyperplane coefficients (normal vector):\", normal_vector)"
   ]
  },
  {
   "cell_type": "code",
   "execution_count": 45,
   "id": "8e63bfe3",
   "metadata": {},
   "outputs": [
    {
     "name": "stdout",
     "output_type": "stream",
     "text": [
      "-0.1825741858350553\n",
      "[5. 2. 1.]\n"
     ]
    }
   ],
   "source": [
    "print(normal_vector[2])\n",
    "normal_vector_final = normal_vector / normal_vector[2]\n",
    "print(normal_vector_final)\n"
   ]
  },
  {
   "cell_type": "code",
   "execution_count": null,
   "id": "3a96ead6",
   "metadata": {},
   "outputs": [
    {
     "name": "stdout",
     "output_type": "stream",
     "text": [
      "[[ 5 11]\n",
      " [11  5]]\n",
      "[8 8]\n",
      "[[-3  3]\n",
      " [ 3 -3]]\n"
     ]
    }
   ],
   "source": [
    "import numpy as np\n",
    "A = np.array([[2, 8], [4, 2]])\n",
    "print(A)\n",
    "b = np.array([4, 5])\n",
    "print(b)\n",
    "\n",
    "AN = A-b\n",
    "\n",
    "print(AN)"
   ]
  },
  {
   "cell_type": "code",
   "execution_count": 7,
   "id": "0235dffa",
   "metadata": {},
   "outputs": [
    {
     "name": "stdout",
     "output_type": "stream",
     "text": [
      "U:\n",
      " [[-0.70710678  0.70710678]\n",
      " [ 0.70710678  0.70710678]]\n",
      "Singular values:\n",
      " [3.60000000e+01 1.49951883e-15]\n",
      "V^T:\n",
      " [[-0.70710678  0.70710678]\n",
      " [-0.70710678 -0.70710678]]\n",
      "Hyperplane coefficients (normal vector): [-0.70710678 -0.70710678]\n"
     ]
    }
   ],
   "source": [
    "U, S, VT = np.linalg.svd(np.dot(np.transpose(AN), AN))\n",
    "\n",
    "print(\"U:\\n\", U)\n",
    "print(\"Singular values:\\n\", S)\n",
    "print(\"V^T:\\n\", VT)\n",
    "\n",
    "# The last row of V^T gives the normal vector of the hyperplane\n",
    "normal_vector = VT[-1, :]  # Last row\n",
    "\n",
    "print(\"Hyperplane coefficients (normal vector):\", normal_vector)"
   ]
  },
  {
   "cell_type": "code",
   "execution_count": 9,
   "id": "9b5d5091",
   "metadata": {},
   "outputs": [
    {
     "name": "stdout",
     "output_type": "stream",
     "text": [
      "-0.7071067811865475\n",
      "[1. 1.]\n"
     ]
    }
   ],
   "source": [
    "print(normal_vector[1])\n",
    "normal_vector_final = normal_vector / normal_vector[1]\n",
    "print(normal_vector_final)"
   ]
  },
  {
   "cell_type": "code",
   "execution_count": null,
   "id": "9d327ceb",
   "metadata": {},
   "outputs": [],
   "source": [
    "from pyomo.environ import *\n",
    "\n"
   ]
  },
  {
   "cell_type": "code",
   "execution_count": null,
   "id": "025416bb",
   "metadata": {},
   "outputs": [],
   "source": [
    "model - ConcreteMode()\n",
    "\n",
    "model.x= RangeSet(1, 4)"
   ]
  }
 ],
 "metadata": {
  "kernelspec": {
   "display_name": "base",
   "language": "python",
   "name": "python3"
  },
  "language_info": {
   "codemirror_mode": {
    "name": "ipython",
    "version": 3
   },
   "file_extension": ".py",
   "mimetype": "text/x-python",
   "name": "python",
   "nbconvert_exporter": "python",
   "pygments_lexer": "ipython3",
   "version": "3.12.3"
  }
 },
 "nbformat": 4,
 "nbformat_minor": 5
}
