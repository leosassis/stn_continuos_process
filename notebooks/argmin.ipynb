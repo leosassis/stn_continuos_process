{
 "cells": [
  {
   "cell_type": "code",
   "execution_count": 8,
   "id": "b767028a",
   "metadata": {},
   "outputs": [],
   "source": [
    "import pyomo.environ as pyo\n",
    "\n"
   ]
  },
  {
   "cell_type": "code",
   "execution_count": 11,
   "id": "bd7380db",
   "metadata": {},
   "outputs": [],
   "source": [
    "model = pyo.ConcreteModel()\n",
    "\n",
    "model.S_K = pyo.Set(initialize = ['S3', 'S4', 'S5', 'S6'])\n",
    "\n",
    "theta_values = {'S3': 10000, 'S4': 10000, 'S5': 10000, 'S6': 0}\n",
    "\n",
    "model.P_Theta = pyo.Param(model.S_K, initialize = theta_values)"
   ]
  },
  {
   "cell_type": "code",
   "execution_count": 12,
   "id": "f8e7f1e7",
   "metadata": {},
   "outputs": [
    {
     "name": "stdout",
     "output_type": "stream",
     "text": [
      "argmin_k: S6\n"
     ]
    }
   ],
   "source": [
    "argmin_k = min(model.S_K, key = lambda k: model.P_Theta[k])\n",
    "\n",
    "print(f\"argmin_k: {argmin_k}\")\n"
   ]
  },
  {
   "cell_type": "code",
   "execution_count": null,
   "id": "8e63bfe3",
   "metadata": {},
   "outputs": [],
   "source": []
  }
 ],
 "metadata": {
  "kernelspec": {
   "display_name": "base",
   "language": "python",
   "name": "python3"
  },
  "language_info": {
   "codemirror_mode": {
    "name": "ipython",
    "version": 3
   },
   "file_extension": ".py",
   "mimetype": "text/x-python",
   "name": "python",
   "nbconvert_exporter": "python",
   "pygments_lexer": "ipython3",
   "version": "3.12.3"
  }
 },
 "nbformat": 4,
 "nbformat_minor": 5
}
