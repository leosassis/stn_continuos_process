{
 "cells": [
  {
   "cell_type": "code",
   "execution_count": 1,
   "id": "7730b9c5",
   "metadata": {},
   "outputs": [
    {
     "name": "stdout",
     "output_type": "stream",
     "text": [
      "sbatch --array=37,38,39,41,67,68,69,74,76,77,79,94,95,100,101,106,121,124,125,130,131,133,134,142,199,200,203,204,226,227,228,229,230,231,235,236,238,239,256,257,258,262,268,283,286,287,288,292,293,295,296,304,305,361,362,363,366,367,368,390,391,392,393,397,398,399,400,401,404,418,419,420,424,425,430,445,448,449,454,455,457,458,459,466,467,523,524,525,527,550,552,553,554,555,559,560,561,562,563,567,580,581,582,586,592,607,608,610,611,617,619,620,628,629,685,686,687,689,713,715,716,717,721,722,724,725,727,742,743,749,754,769,770,772,773,779,781,783,790,791,848,849,854,877,878,879,880,883,884,885,886,887,904,905,906,910,911,932,940,941,943,945,952,953,1010,1011,1016,1037,1039,1040,1041,1045,1046,1048,1049,1051,1053,1066,1067,1068,1072,1078,1096,1103,1105,1106,1107,1114,1115,1171,1172,1173,1175,1201,1202,1203,1207,1208,1210,1211,1213,1228,1229,1230,1234,1235,1240,1258,1259,1260,1264,1265,1267,1268,1269,1276,1277,1333,1334,1335,1363,1364,1365,1366,1367,1369,1370,1372,1373,1376,1390,1391,1392,1396,1402,1417,1420,1421,1429,1430,1431,1438,1439,1495,1496,1497,1498,1499,1501,1503,1525,1526,1527,1531,1532,1534,1535,1538,1552,1553,1554,1558,1582,1583,1584,1588,1589,1591,1592,1600,1601,1658,1659,1664,1665,1685,1687,1688,1689,1693,1694,1695,1696,1697,1700,1714,1715,1716,1726,1744,1745,1750,1753,1754,1762,1763,1819,1820,1821,1822,1823,1849,1850,1851,1855,1856,1858,1859,1863,1876,1877,1882,1903,1904,1906,1907,1908,1912,1913,1915,1916,1924 slurm.sh\n"
     ]
    }
   ],
   "source": [
    "\n",
    "import pandas as pd\n",
    "\n",
    "# Load the Excel file and the \"Invalid Records\" sheet\n",
    "df = pd.read_excel(\"src/results/aggregated_results.xlsx\", sheet_name=\"Invalid Records\", header=None)\n",
    "\n",
    "# Extract the last number from each record\n",
    "# Assuming the record format is like: network_4_0_39_1.6_0.7_1_1078\n",
    "last_numbers = df[0].astype(str).apply(lambda x: x.strip().split('_')[-1])\n",
    "\n",
    "# Convert to sorted unique integers\n",
    "numbers = sorted(set(map(int, last_numbers)))\n",
    "\n",
    "# Join them into a comma-separated string\n",
    "array_values = \",\".join(map(str, numbers))\n",
    "\n",
    "# Construct the sbatch command\n",
    "sbatch_command = f\"sbatch --array={array_values} slurm.sh\"\n",
    "\n",
    "print(sbatch_command)"
   ]
  }
 ],
 "metadata": {
  "kernelspec": {
   "display_name": "base",
   "language": "python",
   "name": "python3"
  },
  "language_info": {
   "codemirror_mode": {
    "name": "ipython",
    "version": 3
   },
   "file_extension": ".py",
   "mimetype": "text/x-python",
   "name": "python",
   "nbconvert_exporter": "python",
   "pygments_lexer": "ipython3",
   "version": "3.12.3"
  }
 },
 "nbformat": 4,
 "nbformat_minor": 5
}
